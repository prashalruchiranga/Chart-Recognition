{
 "cells": [
  {
   "cell_type": "code",
   "execution_count": 2,
   "id": "f14670d3-75ea-4616-809b-535f98d56c13",
   "metadata": {},
   "outputs": [],
   "source": [
    "import numpy as np\n",
    "import pandas as pd\n",
    "from glob import glob\n",
    "import cv2\n",
    "import tensorflow as tf\n",
    "from tensorflow import keras"
   ]
  },
  {
   "cell_type": "code",
   "execution_count": 10,
   "id": "bafecc99-cd3d-4d12-9160-b47a9ace6f2e",
   "metadata": {
    "scrolled": true
   },
   "outputs": [],
   "source": [
    "import json\n",
    "with open('DeepRuleDataset/bardata(1031)/bar/annotations/instancesBar(1031)_val2019.json') as f:\n",
    "    data = json.load(f)"
   ]
  },
  {
   "cell_type": "code",
   "execution_count": 23,
   "id": "16a94354-346b-4120-909a-664faeb45f99",
   "metadata": {},
   "outputs": [
    {
     "data": {
      "text/plain": [
       "dict_keys(['licenses', 'images', 'annotations', 'categories'])"
      ]
     },
     "execution_count": 23,
     "metadata": {},
     "output_type": "execute_result"
    }
   ],
   "source": [
    "data.keys()"
   ]
  },
  {
   "cell_type": "code",
   "execution_count": 29,
   "id": "31675e2e-391a-4200-8520-a485012e056d",
   "metadata": {},
   "outputs": [
    {
     "data": {
      "text/plain": [
       "[{'file_name': 'c49285ca77f6aff6214dad492b688113_d3d3LmRhbmUuZ292LmNvCTE3MC4yMzguNjQuNzg=.xls-0-0.png',\n",
       "  'height': 426,\n",
       "  'width': 1027,\n",
       "  'id': 6262},\n",
       " {'file_name': 'c49285ca77f6aff6214dad492b688113_d3d3LmRhbmUuZ292LmNvCTE3MC4yMzguNjQuNzg=.xls-0-1.png',\n",
       "  'height': 427,\n",
       "  'width': 1028,\n",
       "  'id': 6263},\n",
       " {'file_name': 'c49830551627d9220fc08c5e9fe007b6_d3d3Lmdvdi5zY290CTEzNC4xOS4xNjEuMjQ5.xls-25-0.png',\n",
       "  'height': 381,\n",
       "  'width': 1008,\n",
       "  'id': 6264},\n",
       " {'file_name': 'c49bfcb997437ebb0afc13986b889817_d3d3LndpbmVwaS5jb20JMjA3LjE1MC4yMTIuOTk=.xls-0-0.png',\n",
       "  'height': 562,\n",
       "  'width': 964,\n",
       "  'id': 6265},\n",
       " {'file_name': 'c49bfcb997437ebb0afc13986b889817_d3d3LndpbmVwaS5jb20JMjA3LjE1MC4yMTIuOTk=.xls-1-0.png',\n",
       "  'height': 561,\n",
       "  'width': 964,\n",
       "  'id': 6266}]"
      ]
     },
     "execution_count": 29,
     "metadata": {},
     "output_type": "execute_result"
    }
   ],
   "source": [
    "data['images'][0:5]"
   ]
  },
  {
   "cell_type": "code",
   "execution_count": 30,
   "id": "0d611bd8-e66c-4cbc-bbad-0acedd995d4e",
   "metadata": {},
   "outputs": [
    {
     "data": {
      "text/plain": [
       "[{'image_id': 6262,\n",
       "  'category_id': 0,\n",
       "  'bbox': [110.0, 70.0, 17.0, 223.0],\n",
       "  'area': 3791.0,\n",
       "  'id': 143084},\n",
       " {'image_id': 6262,\n",
       "  'category_id': 0,\n",
       "  'bbox': [152.0, 65.0, 17.0, 228.0],\n",
       "  'area': 3876.0,\n",
       "  'id': 143085},\n",
       " {'image_id': 6262,\n",
       "  'category_id': 0,\n",
       "  'bbox': [194.0, 82.0, 17.0, 211.0],\n",
       "  'area': 3587.0,\n",
       "  'id': 143086},\n",
       " {'image_id': 6262,\n",
       "  'category_id': 0,\n",
       "  'bbox': [235.0, 67.0, 17.0, 226.0],\n",
       "  'area': 3842.0,\n",
       "  'id': 143087},\n",
       " {'image_id': 6262,\n",
       "  'category_id': 0,\n",
       "  'bbox': [277.0, 54.0, 17.0, 239.0],\n",
       "  'area': 4063.0,\n",
       "  'id': 143088}]"
      ]
     },
     "execution_count": 30,
     "metadata": {},
     "output_type": "execute_result"
    }
   ],
   "source": [
    "data['annotations'][0:5]"
   ]
  },
  {
   "cell_type": "code",
   "execution_count": 31,
   "id": "ec5caac2-5484-41c7-b49d-b4f78bed287c",
   "metadata": {},
   "outputs": [
    {
     "data": {
      "text/plain": [
       "6121"
      ]
     },
     "execution_count": 31,
     "metadata": {},
     "output_type": "execute_result"
    }
   ],
   "source": [
    "len(data['images'])"
   ]
  },
  {
   "cell_type": "code",
   "execution_count": 32,
   "id": "08dda490-27fd-4b33-83a9-6e551347613b",
   "metadata": {},
   "outputs": [
    {
     "data": {
      "text/plain": [
       "139108"
      ]
     },
     "execution_count": 32,
     "metadata": {},
     "output_type": "execute_result"
    }
   ],
   "source": [
    "len(data['annotations'])"
   ]
  },
  {
   "cell_type": "code",
   "execution_count": null,
   "id": "a17a13c1-2322-4789-8527-e303ef86e6d5",
   "metadata": {},
   "outputs": [],
   "source": []
  }
 ],
 "metadata": {
  "kernelspec": {
   "display_name": "Python 3 (ipykernel)",
   "language": "python",
   "name": "python3"
  },
  "language_info": {
   "codemirror_mode": {
    "name": "ipython",
    "version": 3
   },
   "file_extension": ".py",
   "mimetype": "text/x-python",
   "name": "python",
   "nbconvert_exporter": "python",
   "pygments_lexer": "ipython3",
   "version": "3.10.13"
  }
 },
 "nbformat": 4,
 "nbformat_minor": 5
}
