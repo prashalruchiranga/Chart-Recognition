{
 "cells": [
  {
   "cell_type": "code",
   "execution_count": 2,
   "id": "f14670d3-75ea-4616-809b-535f98d56c13",
   "metadata": {},
   "outputs": [],
   "source": [
    "import numpy as np\n",
    "import pandas as pd\n",
    "from glob import glob\n",
    "import cv2\n",
    "import tensorflow as tf\n",
    "from tensorflow import keras"
   ]
  },
  {
   "cell_type": "code",
   "execution_count": null,
   "id": "bafecc99-cd3d-4d12-9160-b47a9ace6f2e",
   "metadata": {
    "scrolled": true
   },
   "outputs": [],
   "source": [
    "import json\n",
    "with open('DeepRuleDataset/bardata(1031)/bar/annotations/instancesBar(1031)_val2019.json') as f:\n",
    "    data = json.load(f)"
   ]
  },
  {
   "cell_type": "code",
   "execution_count": null,
   "id": "16a94354-346b-4120-909a-664faeb45f99",
   "metadata": {},
   "outputs": [],
   "source": [
    "data.keys()"
   ]
  },
  {
   "cell_type": "code",
   "execution_count": null,
   "id": "31675e2e-391a-4200-8520-a485012e056d",
   "metadata": {},
   "outputs": [],
   "source": [
    "data['images'][0:5]"
   ]
  },
  {
   "cell_type": "code",
   "execution_count": null,
   "id": "0d611bd8-e66c-4cbc-bbad-0acedd995d4e",
   "metadata": {},
   "outputs": [],
   "source": [
    "data['annotations'][0:5]"
   ]
  },
  {
   "cell_type": "code",
   "execution_count": null,
   "id": "ec5caac2-5484-41c7-b49d-b4f78bed287c",
   "metadata": {},
   "outputs": [],
   "source": [
    "len(data['images'])"
   ]
  },
  {
   "cell_type": "code",
   "execution_count": null,
   "id": "08dda490-27fd-4b33-83a9-6e551347613b",
   "metadata": {},
   "outputs": [],
   "source": [
    "len(data['annotations'])"
   ]
  },
  {
   "cell_type": "code",
   "execution_count": null,
   "id": "a17a13c1-2322-4789-8527-e303ef86e6d5",
   "metadata": {},
   "outputs": [],
   "source": []
  }
 ],
 "metadata": {
  "kernelspec": {
   "display_name": "Python 3 (ipykernel)",
   "language": "python",
   "name": "python3"
  },
  "language_info": {
   "codemirror_mode": {
    "name": "ipython",
    "version": 3
   },
   "file_extension": ".py",
   "mimetype": "text/x-python",
   "name": "python",
   "nbconvert_exporter": "python",
   "pygments_lexer": "ipython3",
   "version": "3.10.13"
  }
 },
 "nbformat": 4,
 "nbformat_minor": 5
}
